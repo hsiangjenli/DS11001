{
  "cells": [
    {
      "cell_type": "markdown",
      "id": "0cf35681",
      "metadata": {
        "id": "0cf35681"
      },
      "source": [
        "# **Anue**"
      ]
    },
    {
      "cell_type": "code",
      "source": [
        "!apt install subversion"
      ],
      "metadata": {
        "id": "ODwBPXfee_ex"
      },
      "id": "ODwBPXfee_ex",
      "execution_count": null,
      "outputs": []
    },
    {
      "cell_type": "code",
      "source": [
        "!svn export https://github.com/hsiangjenli/DS11001/trunk/程式/Anue"
      ],
      "metadata": {
        "id": "j0M4-a6cfEPD"
      },
      "id": "j0M4-a6cfEPD",
      "execution_count": null,
      "outputs": []
    },
    {
      "cell_type": "markdown",
      "id": "95dac373",
      "metadata": {
        "id": "95dac373"
      },
      "source": [
        "## **Category**"
      ]
    },
    {
      "cell_type": "code",
      "execution_count": null,
      "id": "1afccb01",
      "metadata": {
        "id": "1afccb01"
      },
      "outputs": [],
      "source": [
        "from Anue.anue import ANUE_CAT"
      ]
    },
    {
      "cell_type": "code",
      "execution_count": null,
      "id": "7460c80a",
      "metadata": {
        "id": "7460c80a"
      },
      "outputs": [],
      "source": [
        "ANUE_CAT.cat"
      ]
    },
    {
      "cell_type": "markdown",
      "id": "9b7c86f7",
      "metadata": {
        "id": "9b7c86f7"
      },
      "source": [
        "## **URL format**"
      ]
    },
    {
      "cell_type": "code",
      "execution_count": null,
      "id": "6533748a",
      "metadata": {
        "id": "6533748a"
      },
      "outputs": [],
      "source": [
        "from Anue.anue import ANUE_URL"
      ]
    },
    {
      "cell_type": "code",
      "execution_count": null,
      "id": "80894ea1",
      "metadata": {
        "id": "80894ea1"
      },
      "outputs": [],
      "source": [
        "ANUE_URL.v1\n",
        "ANUE_URL.v3\n",
        "ANUE_URL.demo"
      ]
    },
    {
      "cell_type": "markdown",
      "id": "f177332f",
      "metadata": {
        "id": "f177332f"
      },
      "source": [
        "## **基本設定**"
      ]
    },
    {
      "cell_type": "markdown",
      "id": "eb93d23d",
      "metadata": {
        "id": "eb93d23d"
      },
      "source": [
        "```python\n",
        "anue = ANUE(category = 'tw_stock',\n",
        "            period = 2) #最近的2天\n",
        "\n",
        "'''\n",
        "from Anue.anue import ANUE_CAT\n",
        "\n",
        "ANUE_CAT.cat = {'即時頭條': 'headline',\n",
        "                'A股港股': 'cn_stock',\n",
        "                '外匯': 'forex',\n",
        "                '台股': 'tw_stock',\n",
        "                '期貨': 'future',\n",
        "                '國際股': 'wd_macro'}\n",
        "'''\n",
        "```"
      ]
    },
    {
      "cell_type": "markdown",
      "id": "1828d6d3",
      "metadata": {
        "id": "1828d6d3"
      },
      "source": [
        "### `crawler_type='quick'`\n",
        "```python\n",
        "anue.crawler_all(crawler_type='quick') #Deafult\n",
        "```"
      ]
    },
    {
      "cell_type": "code",
      "execution_count": null,
      "id": "e1175722",
      "metadata": {
        "id": "e1175722"
      },
      "outputs": [],
      "source": [
        "from Anue.anue import ANUE\n",
        "\n",
        "anue = ANUE(category = 'tw_stock', period = 1)"
      ]
    },
    {
      "cell_type": "code",
      "execution_count": null,
      "id": "31310b7f",
      "metadata": {
        "tags": [],
        "id": "31310b7f"
      },
      "outputs": [],
      "source": [
        "for news in anue.crawler_all():\n",
        "    print(news)\n",
        "    print('='*100)"
      ]
    },
    {
      "cell_type": "markdown",
      "id": "d7d11e16",
      "metadata": {
        "id": "d7d11e16"
      },
      "source": [
        "### `crawler_type='complete'`\n",
        "```python\n",
        "anue.crawler_all(crawler_type='complete')\n",
        "```"
      ]
    },
    {
      "cell_type": "code",
      "execution_count": null,
      "id": "367fee65",
      "metadata": {
        "tags": [],
        "id": "367fee65"
      },
      "outputs": [],
      "source": [
        "for news in anue.crawler_all(crawler_type='complete'):\n",
        "    print(news)\n",
        "    print('='*100)"
      ]
    },
    {
      "cell_type": "markdown",
      "id": "22717d38",
      "metadata": {
        "id": "22717d38"
      },
      "source": [
        "## **WordCloud**"
      ]
    },
    {
      "cell_type": "code",
      "execution_count": null,
      "id": "92d4b6ab",
      "metadata": {
        "id": "92d4b6ab"
      },
      "outputs": [],
      "source": [
        "from Anue.anue import ANUE\n",
        "\n",
        "anue = ANUE(category = 'tw_stock', period = 1)\n",
        "\n",
        "text = ''\n",
        "for t in anue.crawler_all():\n",
        "    text+=t['text']"
      ]
    },
    {
      "cell_type": "code",
      "execution_count": null,
      "id": "22a9e035",
      "metadata": {
        "id": "22a9e035"
      },
      "outputs": [],
      "source": [
        "from Anue.myWordCloud import myWordCloud"
      ]
    },
    {
      "cell_type": "code",
      "execution_count": null,
      "id": "1f3d65e5-066e-48ca-81f3-afef6ac9ff23",
      "metadata": {
        "id": "1f3d65e5-066e-48ca-81f3-afef6ac9ff23"
      },
      "outputs": [],
      "source": [
        "wc = myWordCloud(recolor=True)"
      ]
    },
    {
      "cell_type": "code",
      "execution_count": null,
      "id": "5bcd4e5d-c52c-42f2-9b61-1d8f1549a3f1",
      "metadata": {
        "id": "5bcd4e5d-c52c-42f2-9b61-1d8f1549a3f1"
      },
      "outputs": [],
      "source": [
        "wc.fit(data=text)"
      ]
    },
    {
      "cell_type": "code",
      "execution_count": null,
      "id": "b11025f2-5cee-4afd-ad37-519f8370cbc0",
      "metadata": {
        "tags": [],
        "id": "b11025f2-5cee-4afd-ad37-519f8370cbc0"
      },
      "outputs": [],
      "source": [
        "wc.generate()"
      ]
    }
  ],
  "metadata": {
    "kernelspec": {
      "display_name": "Python 3 (ipykernel)",
      "language": "python",
      "name": "python3"
    },
    "language_info": {
      "codemirror_mode": {
        "name": "ipython",
        "version": 3
      },
      "file_extension": ".py",
      "mimetype": "text/x-python",
      "name": "python",
      "nbconvert_exporter": "python",
      "pygments_lexer": "ipython3",
      "version": "3.8.8"
    },
    "toc-autonumbering": true,
    "colab": {
      "name": "Demo --Anue.ipynb",
      "provenance": []
    }
  },
  "nbformat": 4,
  "nbformat_minor": 5
}